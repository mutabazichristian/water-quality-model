{
  "nbformat": 4,
  "nbformat_minor": 0,
  "metadata": {
    "colab": {
      "provenance": [],
      "authorship_tag": "ABX9TyM0FbY84umK+OhZYX1REREf",
      "include_colab_link": true
    },
    "kernelspec": {
      "name": "python3",
      "display_name": "Python 3"
    },
    "language_info": {
      "name": "python"
    }
  },
  "cells": [
    {
      "cell_type": "markdown",
      "metadata": {
        "id": "view-in-github",
        "colab_type": "text"
      },
      "source": [
        "<a href=\"https://colab.research.google.com/github/mutabazichristian/water-quality-model/blob/christian/dropout%26reg.ipynb\" target=\"_parent\"><img src=\"https://colab.research.google.com/assets/colab-badge.svg\" alt=\"Open In Colab\"/></a>"
      ]
    },
    {
      "cell_type": "code",
      "execution_count": 123,
      "metadata": {
        "id": "9W7TACZtU0WG"
      },
      "outputs": [],
      "source": [
        "import numpy as np\n",
        "import pandas as pd\n",
        "import tensorflow as tf\n",
        "import matplotlib.pyplot as plt\n",
        "from sklearn.metrics import confusion_matrix, classification_report\n",
        "from sklearn.model_selection import train_test_split\n",
        "from sklearn.preprocessing import StandardScaler\n",
        "from sklearn.impute import SimpleImputer\n",
        "from imblearn.combine import SMOTETomek\n",
        "import seaborn as sns\n",
        ""
      ]
    },
    {
      "cell_type": "code",
      "source": [
        "np.random.seed(42)\n",
        "tf.random.set_seed(42)"
      ],
      "metadata": {
        "id": "flhSthwJU2z8"
      },
      "execution_count": 124,
      "outputs": []
    },
    {
      "cell_type": "code",
      "source": [
        "drive.mount('/content/drive')\n",
        "dataset = pd.read_csv('/content/drive/MyDrive/ALU/datasets/water_potability.csv')\n",
        "X = dataset.iloc[:, :-1]\n",
        "y = dataset.iloc[:, -1]"
      ],
      "metadata": {
        "colab": {
          "base_uri": "https://localhost:8080/"
        },
        "id": "63TIk6MJU4fa",
        "outputId": "e275e1e4-dbc4-4999-9968-9cd7b5bbb4f0"
      },
      "execution_count": 125,
      "outputs": [
        {
          "output_type": "stream",
          "name": "stdout",
          "text": [
            "Drive already mounted at /content/drive; to attempt to forcibly remount, call drive.mount(\"/content/drive\", force_remount=True).\n"
          ]
        }
      ]
    },
    {
      "cell_type": "code",
      "source": [
        "X_train, X_test, y_train, y_test = train_test_split(X, y, test_size=0.2, stratify=y, random_state=42)"
      ],
      "metadata": {
        "id": "tWUf7sR3iaru"
      },
      "execution_count": 126,
      "outputs": []
    },
    {
      "cell_type": "code",
      "source": [
        "imputer = SimpleImputer(strategy='median')\n",
        "scaler = StandardScaler()\n",
        "\n",
        "X_train_imputed = imputer.fit_transform(X_train)\n",
        "X_test_imputed = imputer.transform(X_test)\n",
        "\n",
        "X_train_scaled = scaler.fit_transform(X_train_imputed)\n",
        "X_test_scaled = scaler.transform(X_test_imputed)"
      ],
      "metadata": {
        "id": "YTZLASHbl0ee"
      },
      "execution_count": 127,
      "outputs": []
    },
    {
      "cell_type": "code",
      "source": [
        "smote_tomek = SMOTETomek(random_state=42, sampling_strategy=0.65)\n",
        "X_train_resampled, y_train_resampled = smote_tomek.fit_resample(X_train_scaled, y_train)"
      ],
      "metadata": {
        "id": "F0ZTVlFDV-BF"
      },
      "execution_count": 128,
      "outputs": []
    },
    {
      "cell_type": "code",
      "source": [
        "model = tf.keras.Sequential([\n",
        "    tf.keras.layers.Input(shape=(X_train_resampled.shape[1],)),\n",
        "    tf.keras.layers.Dense(256, kernel_regularizer=tf.keras.regularizers.l1(0.0001)),\n",
        "    tf.keras.layers.BatchNormalization(),\n",
        "    tf.keras.layers.LeakyReLU(alpha=0.1),\n",
        "    tf.keras.layers.Dropout(0.3),\n",
        "\n",
        "    tf.keras.layers.Dense(128, kernel_regularizer=tf.keras.regularizers.l1(0.0001)),\n",
        "    tf.keras.layers.BatchNormalization(),\n",
        "    tf.keras.layers.LeakyReLU(alpha=0.1),\n",
        "    tf.keras.layers.Dropout(0.3),\n",
        "\n",
        "    tf.keras.layers.Dense(64, kernel_regularizer=tf.keras.regularizers.l1(0.0001)),\n",
        "    tf.keras.layers.BatchNormalization(),\n",
        "    tf.keras.layers.LeakyReLU(alpha=0.1),\n",
        "    tf.keras.layers.Dropout(0.3),\n",
        "\n",
        "    tf.keras.layers.Dense(32, kernel_regularizer=tf.keras.regularizers.l1(0.0001)),\n",
        "    tf.keras.layers.BatchNormalization(),\n",
        "    tf.keras.layers.LeakyReLU(alpha=0.1),\n",
        "    tf.keras.layers.Dropout(0.3),\n",
        "\n",
        "    tf.keras.layers.Dense(1, activation='sigmoid')\n",
        "])"
      ],
      "metadata": {
        "id": "mOep-3_WU2tw",
        "colab": {
          "base_uri": "https://localhost:8080/"
        },
        "outputId": "17d53e1f-db6c-4b96-b91a-912e31337fb7"
      },
      "execution_count": 129,
      "outputs": [
        {
          "output_type": "stream",
          "name": "stderr",
          "text": [
            "/usr/local/lib/python3.11/dist-packages/keras/src/layers/activations/leaky_relu.py:41: UserWarning: Argument `alpha` is deprecated. Use `negative_slope` instead.\n",
            "  warnings.warn(\n"
          ]
        }
      ]
    },
    {
      "cell_type": "code",
      "source": [
        "lr_schedule = tf.keras.optimizers.schedules.ExponentialDecay(\n",
        "    initial_learning_rate=0.001,\n",
        "    decay_steps=1000,\n",
        "    decay_rate=0.9,\n",
        "    staircase=True\n",
        ")\n",
        "\n",
        "optimizer = tf.keras.optimizers.RMSprop(\n",
        "    #learning_rate=lr_schedule,\n",
        "    rho=0.9,\n",
        "    momentum=0.1,\n",
        "    epsilon=1e-7\n",
        ")\n",
        "\n",
        "model.compile(\n",
        "    optimizer=optimizer,\n",
        "    loss=tf.keras.losses.BinaryCrossentropy(label_smoothing=0.1),\n",
        "    metrics=['accuracy']\n",
        ")"
      ],
      "metadata": {
        "id": "mbm_HNMqWDmL"
      },
      "execution_count": 130,
      "outputs": []
    },
    {
      "cell_type": "code",
      "source": [
        "early_stopping = tf.keras.callbacks.EarlyStopping(\n",
        "    monitor='val_loss',\n",
        "    patience=30,\n",
        "    min_delta=0.001,\n",
        "    restore_best_weights=True\n",
        ")\n",
        "\n",
        "reduce_lr = tf.keras.callbacks.ReduceLROnPlateau(\n",
        "    monitor='val_loss',\n",
        "    factor=0.5,\n",
        "    patience=10,\n",
        "    min_lr=1e-6\n",
        ")"
      ],
      "metadata": {
        "id": "-5obTQFGWEnE"
      },
      "execution_count": 131,
      "outputs": []
    },
    {
      "cell_type": "code",
      "source": [
        "history = model.fit(\n",
        "    X_train_resampled, y_train_resampled,\n",
        "    validation_data=(X_test_scaled, y_test),\n",
        "    epochs=200,\n",
        "    batch_size=32,\n",
        "    callbacks=[early_stopping, reduce_lr]\n",
        ")\n"
      ],
      "metadata": {
        "id": "wEvY-7RhWH4K",
        "colab": {
          "base_uri": "https://localhost:8080/"
        },
        "outputId": "0d7fb7ac-03f0-4cfb-ff10-561d94d29804"
      },
      "execution_count": 132,
      "outputs": [
        {
          "output_type": "stream",
          "name": "stdout",
          "text": [
            "Epoch 1/200\n",
            "\u001b[1m71/71\u001b[0m \u001b[32m━━━━━━━━━━━━━━━━━━━━\u001b[0m\u001b[37m\u001b[0m \u001b[1m5s\u001b[0m 16ms/step - accuracy: 0.5301 - loss: 1.0847 - val_accuracy: 0.6311 - val_loss: 0.9827 - learning_rate: 0.0010\n",
            "Epoch 2/200\n",
            "\u001b[1m71/71\u001b[0m \u001b[32m━━━━━━━━━━━━━━━━━━━━\u001b[0m\u001b[37m\u001b[0m \u001b[1m1s\u001b[0m 9ms/step - accuracy: 0.6155 - loss: 1.0024 - val_accuracy: 0.6418 - val_loss: 0.9622 - learning_rate: 0.0010\n",
            "Epoch 3/200\n",
            "\u001b[1m71/71\u001b[0m \u001b[32m━━━━━━━━━━━━━━━━━━━━\u001b[0m\u001b[37m\u001b[0m \u001b[1m1s\u001b[0m 9ms/step - accuracy: 0.6080 - loss: 0.9893 - val_accuracy: 0.6570 - val_loss: 0.9445 - learning_rate: 0.0010\n",
            "Epoch 4/200\n",
            "\u001b[1m71/71\u001b[0m \u001b[32m━━━━━━━━━━━━━━━━━━━━\u001b[0m\u001b[37m\u001b[0m \u001b[1m1s\u001b[0m 9ms/step - accuracy: 0.6437 - loss: 0.9624 - val_accuracy: 0.6768 - val_loss: 0.9297 - learning_rate: 0.0010\n",
            "Epoch 5/200\n",
            "\u001b[1m71/71\u001b[0m \u001b[32m━━━━━━━━━━━━━━━━━━━━\u001b[0m\u001b[37m\u001b[0m \u001b[1m1s\u001b[0m 5ms/step - accuracy: 0.6632 - loss: 0.9456 - val_accuracy: 0.6905 - val_loss: 0.9190 - learning_rate: 0.0010\n",
            "Epoch 6/200\n",
            "\u001b[1m71/71\u001b[0m \u001b[32m━━━━━━━━━━━━━━━━━━━━\u001b[0m\u001b[37m\u001b[0m \u001b[1m1s\u001b[0m 5ms/step - accuracy: 0.6507 - loss: 0.9328 - val_accuracy: 0.6799 - val_loss: 0.9143 - learning_rate: 0.0010\n",
            "Epoch 7/200\n",
            "\u001b[1m71/71\u001b[0m \u001b[32m━━━━━━━━━━━━━━━━━━━━\u001b[0m\u001b[37m\u001b[0m \u001b[1m0s\u001b[0m 5ms/step - accuracy: 0.6700 - loss: 0.9219 - val_accuracy: 0.6707 - val_loss: 0.9076 - learning_rate: 0.0010\n",
            "Epoch 8/200\n",
            "\u001b[1m71/71\u001b[0m \u001b[32m━━━━━━━━━━━━━━━━━━━━\u001b[0m\u001b[37m\u001b[0m \u001b[1m1s\u001b[0m 5ms/step - accuracy: 0.6944 - loss: 0.8919 - val_accuracy: 0.6646 - val_loss: 0.9061 - learning_rate: 0.0010\n",
            "Epoch 9/200\n",
            "\u001b[1m71/71\u001b[0m \u001b[32m━━━━━━━━━━━━━━━━━━━━\u001b[0m\u001b[37m\u001b[0m \u001b[1m1s\u001b[0m 5ms/step - accuracy: 0.6733 - loss: 0.8958 - val_accuracy: 0.6723 - val_loss: 0.8953 - learning_rate: 0.0010\n",
            "Epoch 10/200\n",
            "\u001b[1m71/71\u001b[0m \u001b[32m━━━━━━━━━━━━━━━━━━━━\u001b[0m\u001b[37m\u001b[0m \u001b[1m0s\u001b[0m 5ms/step - accuracy: 0.6830 - loss: 0.8772 - val_accuracy: 0.6768 - val_loss: 0.8849 - learning_rate: 0.0010\n",
            "Epoch 11/200\n",
            "\u001b[1m71/71\u001b[0m \u001b[32m━━━━━━━━━━━━━━━━━━━━\u001b[0m\u001b[37m\u001b[0m \u001b[1m0s\u001b[0m 5ms/step - accuracy: 0.6822 - loss: 0.8601 - val_accuracy: 0.6707 - val_loss: 0.8666 - learning_rate: 0.0010\n",
            "Epoch 12/200\n",
            "\u001b[1m71/71\u001b[0m \u001b[32m━━━━━━━━━━━━━━━━━━━━\u001b[0m\u001b[37m\u001b[0m \u001b[1m0s\u001b[0m 5ms/step - accuracy: 0.7060 - loss: 0.8301 - val_accuracy: 0.6631 - val_loss: 0.8636 - learning_rate: 0.0010\n",
            "Epoch 13/200\n",
            "\u001b[1m71/71\u001b[0m \u001b[32m━━━━━━━━━━━━━━━━━━━━\u001b[0m\u001b[37m\u001b[0m \u001b[1m0s\u001b[0m 5ms/step - accuracy: 0.6830 - loss: 0.8339 - val_accuracy: 0.6753 - val_loss: 0.8504 - learning_rate: 0.0010\n",
            "Epoch 14/200\n",
            "\u001b[1m71/71\u001b[0m \u001b[32m━━━━━━━━━━━━━━━━━━━━\u001b[0m\u001b[37m\u001b[0m \u001b[1m0s\u001b[0m 5ms/step - accuracy: 0.6938 - loss: 0.8146 - val_accuracy: 0.6540 - val_loss: 0.8491 - learning_rate: 0.0010\n",
            "Epoch 15/200\n",
            "\u001b[1m71/71\u001b[0m \u001b[32m━━━━━━━━━━━━━━━━━━━━\u001b[0m\u001b[37m\u001b[0m \u001b[1m0s\u001b[0m 5ms/step - accuracy: 0.6957 - loss: 0.8045 - val_accuracy: 0.6570 - val_loss: 0.8367 - learning_rate: 0.0010\n",
            "Epoch 16/200\n",
            "\u001b[1m71/71\u001b[0m \u001b[32m━━━━━━━━━━━━━━━━━━━━\u001b[0m\u001b[37m\u001b[0m \u001b[1m1s\u001b[0m 5ms/step - accuracy: 0.7092 - loss: 0.7943 - val_accuracy: 0.6677 - val_loss: 0.8285 - learning_rate: 0.0010\n",
            "Epoch 17/200\n",
            "\u001b[1m71/71\u001b[0m \u001b[32m━━━━━━━━━━━━━━━━━━━━\u001b[0m\u001b[37m\u001b[0m \u001b[1m0s\u001b[0m 5ms/step - accuracy: 0.7021 - loss: 0.7910 - val_accuracy: 0.6692 - val_loss: 0.8214 - learning_rate: 0.0010\n",
            "Epoch 18/200\n",
            "\u001b[1m71/71\u001b[0m \u001b[32m━━━━━━━━━━━━━━━━━━━━\u001b[0m\u001b[37m\u001b[0m \u001b[1m0s\u001b[0m 5ms/step - accuracy: 0.7112 - loss: 0.7795 - val_accuracy: 0.6555 - val_loss: 0.8226 - learning_rate: 0.0010\n",
            "Epoch 19/200\n",
            "\u001b[1m71/71\u001b[0m \u001b[32m━━━━━━━━━━━━━━━━━━━━\u001b[0m\u001b[37m\u001b[0m \u001b[1m0s\u001b[0m 5ms/step - accuracy: 0.7089 - loss: 0.7761 - val_accuracy: 0.6601 - val_loss: 0.8077 - learning_rate: 0.0010\n",
            "Epoch 20/200\n",
            "\u001b[1m71/71\u001b[0m \u001b[32m━━━━━━━━━━━━━━━━━━━━\u001b[0m\u001b[37m\u001b[0m \u001b[1m1s\u001b[0m 5ms/step - accuracy: 0.7218 - loss: 0.7540 - val_accuracy: 0.6631 - val_loss: 0.8040 - learning_rate: 0.0010\n",
            "Epoch 21/200\n",
            "\u001b[1m71/71\u001b[0m \u001b[32m━━━━━━━━━━━━━━━━━━━━\u001b[0m\u001b[37m\u001b[0m \u001b[1m1s\u001b[0m 5ms/step - accuracy: 0.7172 - loss: 0.7461 - val_accuracy: 0.6662 - val_loss: 0.8000 - learning_rate: 0.0010\n",
            "Epoch 22/200\n",
            "\u001b[1m71/71\u001b[0m \u001b[32m━━━━━━━━━━━━━━━━━━━━\u001b[0m\u001b[37m\u001b[0m \u001b[1m1s\u001b[0m 6ms/step - accuracy: 0.7038 - loss: 0.7464 - val_accuracy: 0.6692 - val_loss: 0.7961 - learning_rate: 0.0010\n",
            "Epoch 23/200\n",
            "\u001b[1m71/71\u001b[0m \u001b[32m━━━━━━━━━━━━━━━━━━━━\u001b[0m\u001b[37m\u001b[0m \u001b[1m0s\u001b[0m 5ms/step - accuracy: 0.7192 - loss: 0.7331 - val_accuracy: 0.6662 - val_loss: 0.7969 - learning_rate: 0.0010\n",
            "Epoch 24/200\n",
            "\u001b[1m71/71\u001b[0m \u001b[32m━━━━━━━━━━━━━━━━━━━━\u001b[0m\u001b[37m\u001b[0m \u001b[1m1s\u001b[0m 5ms/step - accuracy: 0.7193 - loss: 0.7274 - val_accuracy: 0.6707 - val_loss: 0.7930 - learning_rate: 0.0010\n",
            "Epoch 25/200\n",
            "\u001b[1m71/71\u001b[0m \u001b[32m━━━━━━━━━━━━━━━━━━━━\u001b[0m\u001b[37m\u001b[0m \u001b[1m1s\u001b[0m 9ms/step - accuracy: 0.7251 - loss: 0.7299 - val_accuracy: 0.6723 - val_loss: 0.7835 - learning_rate: 0.0010\n",
            "Epoch 26/200\n",
            "\u001b[1m71/71\u001b[0m \u001b[32m━━━━━━━━━━━━━━━━━━━━\u001b[0m\u001b[37m\u001b[0m \u001b[1m1s\u001b[0m 8ms/step - accuracy: 0.7157 - loss: 0.7302 - val_accuracy: 0.6799 - val_loss: 0.7843 - learning_rate: 0.0010\n",
            "Epoch 27/200\n",
            "\u001b[1m71/71\u001b[0m \u001b[32m━━━━━━━━━━━━━━━━━━━━\u001b[0m\u001b[37m\u001b[0m \u001b[1m1s\u001b[0m 7ms/step - accuracy: 0.7025 - loss: 0.7269 - val_accuracy: 0.6768 - val_loss: 0.7852 - learning_rate: 0.0010\n",
            "Epoch 28/200\n",
            "\u001b[1m71/71\u001b[0m \u001b[32m━━━━━━━━━━━━━━━━━━━━\u001b[0m\u001b[37m\u001b[0m \u001b[1m1s\u001b[0m 8ms/step - accuracy: 0.7040 - loss: 0.7367 - val_accuracy: 0.6631 - val_loss: 0.7848 - learning_rate: 0.0010\n",
            "Epoch 29/200\n",
            "\u001b[1m71/71\u001b[0m \u001b[32m━━━━━━━━━━━━━━━━━━━━\u001b[0m\u001b[37m\u001b[0m \u001b[1m1s\u001b[0m 5ms/step - accuracy: 0.7104 - loss: 0.7131 - val_accuracy: 0.6646 - val_loss: 0.7764 - learning_rate: 0.0010\n",
            "Epoch 30/200\n",
            "\u001b[1m71/71\u001b[0m \u001b[32m━━━━━━━━━━━━━━━━━━━━\u001b[0m\u001b[37m\u001b[0m \u001b[1m1s\u001b[0m 5ms/step - accuracy: 0.7308 - loss: 0.7088 - val_accuracy: 0.6707 - val_loss: 0.7701 - learning_rate: 0.0010\n",
            "Epoch 31/200\n",
            "\u001b[1m71/71\u001b[0m \u001b[32m━━━━━━━━━━━━━━━━━━━━\u001b[0m\u001b[37m\u001b[0m \u001b[1m0s\u001b[0m 5ms/step - accuracy: 0.7198 - loss: 0.7063 - val_accuracy: 0.6646 - val_loss: 0.7740 - learning_rate: 0.0010\n",
            "Epoch 32/200\n",
            "\u001b[1m71/71\u001b[0m \u001b[32m━━━━━━━━━━━━━━━━━━━━\u001b[0m\u001b[37m\u001b[0m \u001b[1m0s\u001b[0m 5ms/step - accuracy: 0.7101 - loss: 0.7141 - val_accuracy: 0.6738 - val_loss: 0.7706 - learning_rate: 0.0010\n",
            "Epoch 33/200\n",
            "\u001b[1m71/71\u001b[0m \u001b[32m━━━━━━━━━━━━━━━━━━━━\u001b[0m\u001b[37m\u001b[0m \u001b[1m1s\u001b[0m 5ms/step - accuracy: 0.7179 - loss: 0.6994 - val_accuracy: 0.6662 - val_loss: 0.7651 - learning_rate: 0.0010\n",
            "Epoch 34/200\n",
            "\u001b[1m71/71\u001b[0m \u001b[32m━━━━━━━━━━━━━━━━━━━━\u001b[0m\u001b[37m\u001b[0m \u001b[1m1s\u001b[0m 5ms/step - accuracy: 0.7168 - loss: 0.7066 - val_accuracy: 0.6677 - val_loss: 0.7736 - learning_rate: 0.0010\n",
            "Epoch 35/200\n",
            "\u001b[1m71/71\u001b[0m \u001b[32m━━━━━━━━━━━━━━━━━━━━\u001b[0m\u001b[37m\u001b[0m \u001b[1m1s\u001b[0m 5ms/step - accuracy: 0.7217 - loss: 0.7034 - val_accuracy: 0.6601 - val_loss: 0.7688 - learning_rate: 0.0010\n",
            "Epoch 36/200\n",
            "\u001b[1m71/71\u001b[0m \u001b[32m━━━━━━━━━━━━━━━━━━━━\u001b[0m\u001b[37m\u001b[0m \u001b[1m0s\u001b[0m 5ms/step - accuracy: 0.7333 - loss: 0.6915 - val_accuracy: 0.6524 - val_loss: 0.7741 - learning_rate: 0.0010\n",
            "Epoch 37/200\n",
            "\u001b[1m71/71\u001b[0m \u001b[32m━━━━━━━━━━━━━━━━━━━━\u001b[0m\u001b[37m\u001b[0m \u001b[1m0s\u001b[0m 5ms/step - accuracy: 0.7379 - loss: 0.6872 - val_accuracy: 0.6692 - val_loss: 0.7790 - learning_rate: 0.0010\n",
            "Epoch 38/200\n",
            "\u001b[1m71/71\u001b[0m \u001b[32m━━━━━━━━━━━━━━━━━━━━\u001b[0m\u001b[37m\u001b[0m \u001b[1m0s\u001b[0m 5ms/step - accuracy: 0.7208 - loss: 0.6987 - val_accuracy: 0.6677 - val_loss: 0.7649 - learning_rate: 0.0010\n",
            "Epoch 39/200\n",
            "\u001b[1m71/71\u001b[0m \u001b[32m━━━━━━━━━━━━━━━━━━━━\u001b[0m\u001b[37m\u001b[0m \u001b[1m0s\u001b[0m 5ms/step - accuracy: 0.7387 - loss: 0.6942 - val_accuracy: 0.6753 - val_loss: 0.7578 - learning_rate: 0.0010\n",
            "Epoch 40/200\n",
            "\u001b[1m71/71\u001b[0m \u001b[32m━━━━━━━━━━━━━━━━━━━━\u001b[0m\u001b[37m\u001b[0m \u001b[1m1s\u001b[0m 5ms/step - accuracy: 0.7174 - loss: 0.6885 - val_accuracy: 0.6753 - val_loss: 0.7598 - learning_rate: 0.0010\n",
            "Epoch 41/200\n",
            "\u001b[1m71/71\u001b[0m \u001b[32m━━━━━━━━━━━━━━━━━━━━\u001b[0m\u001b[37m\u001b[0m \u001b[1m1s\u001b[0m 5ms/step - accuracy: 0.7257 - loss: 0.6774 - val_accuracy: 0.6692 - val_loss: 0.7670 - learning_rate: 0.0010\n",
            "Epoch 42/200\n",
            "\u001b[1m71/71\u001b[0m \u001b[32m━━━━━━━━━━━━━━━━━━━━\u001b[0m\u001b[37m\u001b[0m \u001b[1m0s\u001b[0m 5ms/step - accuracy: 0.7324 - loss: 0.6764 - val_accuracy: 0.6646 - val_loss: 0.7699 - learning_rate: 0.0010\n",
            "Epoch 43/200\n",
            "\u001b[1m71/71\u001b[0m \u001b[32m━━━━━━━━━━━━━━━━━━━━\u001b[0m\u001b[37m\u001b[0m \u001b[1m0s\u001b[0m 5ms/step - accuracy: 0.7390 - loss: 0.6759 - val_accuracy: 0.6570 - val_loss: 0.7544 - learning_rate: 0.0010\n",
            "Epoch 44/200\n",
            "\u001b[1m71/71\u001b[0m \u001b[32m━━━━━━━━━━━━━━━━━━━━\u001b[0m\u001b[37m\u001b[0m \u001b[1m0s\u001b[0m 5ms/step - accuracy: 0.7278 - loss: 0.6828 - val_accuracy: 0.6677 - val_loss: 0.7517 - learning_rate: 0.0010\n",
            "Epoch 45/200\n",
            "\u001b[1m71/71\u001b[0m \u001b[32m━━━━━━━━━━━━━━━━━━━━\u001b[0m\u001b[37m\u001b[0m \u001b[1m1s\u001b[0m 5ms/step - accuracy: 0.7387 - loss: 0.6737 - val_accuracy: 0.6738 - val_loss: 0.7583 - learning_rate: 0.0010\n",
            "Epoch 46/200\n",
            "\u001b[1m71/71\u001b[0m \u001b[32m━━━━━━━━━━━━━━━━━━━━\u001b[0m\u001b[37m\u001b[0m \u001b[1m0s\u001b[0m 6ms/step - accuracy: 0.7337 - loss: 0.6819 - val_accuracy: 0.6662 - val_loss: 0.7495 - learning_rate: 0.0010\n",
            "Epoch 47/200\n",
            "\u001b[1m71/71\u001b[0m \u001b[32m━━━━━━━━━━━━━━━━━━━━\u001b[0m\u001b[37m\u001b[0m \u001b[1m1s\u001b[0m 5ms/step - accuracy: 0.7484 - loss: 0.6621 - val_accuracy: 0.6768 - val_loss: 0.7592 - learning_rate: 0.0010\n",
            "Epoch 48/200\n",
            "\u001b[1m71/71\u001b[0m \u001b[32m━━━━━━━━━━━━━━━━━━━━\u001b[0m\u001b[37m\u001b[0m \u001b[1m1s\u001b[0m 8ms/step - accuracy: 0.7244 - loss: 0.6812 - val_accuracy: 0.6570 - val_loss: 0.7595 - learning_rate: 0.0010\n",
            "Epoch 49/200\n",
            "\u001b[1m71/71\u001b[0m \u001b[32m━━━━━━━━━━━━━━━━━━━━\u001b[0m\u001b[37m\u001b[0m \u001b[1m1s\u001b[0m 7ms/step - accuracy: 0.7321 - loss: 0.6757 - val_accuracy: 0.6616 - val_loss: 0.7563 - learning_rate: 0.0010\n",
            "Epoch 50/200\n",
            "\u001b[1m71/71\u001b[0m \u001b[32m━━━━━━━━━━━━━━━━━━━━\u001b[0m\u001b[37m\u001b[0m \u001b[1m1s\u001b[0m 9ms/step - accuracy: 0.7358 - loss: 0.6739 - val_accuracy: 0.6585 - val_loss: 0.7535 - learning_rate: 0.0010\n",
            "Epoch 51/200\n",
            "\u001b[1m71/71\u001b[0m \u001b[32m━━━━━━━━━━━━━━━━━━━━\u001b[0m\u001b[37m\u001b[0m \u001b[1m1s\u001b[0m 7ms/step - accuracy: 0.7314 - loss: 0.6659 - val_accuracy: 0.6692 - val_loss: 0.7657 - learning_rate: 0.0010\n",
            "Epoch 52/200\n",
            "\u001b[1m71/71\u001b[0m \u001b[32m━━━━━━━━━━━━━━━━━━━━\u001b[0m\u001b[37m\u001b[0m \u001b[1m1s\u001b[0m 7ms/step - accuracy: 0.7314 - loss: 0.6712 - val_accuracy: 0.6738 - val_loss: 0.7552 - learning_rate: 0.0010\n",
            "Epoch 53/200\n",
            "\u001b[1m71/71\u001b[0m \u001b[32m━━━━━━━━━━━━━━━━━━━━\u001b[0m\u001b[37m\u001b[0m \u001b[1m1s\u001b[0m 9ms/step - accuracy: 0.7385 - loss: 0.6660 - val_accuracy: 0.6448 - val_loss: 0.7627 - learning_rate: 0.0010\n",
            "Epoch 54/200\n",
            "\u001b[1m71/71\u001b[0m \u001b[32m━━━━━━━━━━━━━━━━━━━━\u001b[0m\u001b[37m\u001b[0m \u001b[1m1s\u001b[0m 5ms/step - accuracy: 0.7368 - loss: 0.6695 - val_accuracy: 0.6631 - val_loss: 0.7688 - learning_rate: 0.0010\n",
            "Epoch 55/200\n",
            "\u001b[1m71/71\u001b[0m \u001b[32m━━━━━━━━━━━━━━━━━━━━\u001b[0m\u001b[37m\u001b[0m \u001b[1m0s\u001b[0m 5ms/step - accuracy: 0.7415 - loss: 0.6682 - val_accuracy: 0.6540 - val_loss: 0.7587 - learning_rate: 0.0010\n",
            "Epoch 56/200\n",
            "\u001b[1m71/71\u001b[0m \u001b[32m━━━━━━━━━━━━━━━━━━━━\u001b[0m\u001b[37m\u001b[0m \u001b[1m1s\u001b[0m 6ms/step - accuracy: 0.7366 - loss: 0.6655 - val_accuracy: 0.6509 - val_loss: 0.7562 - learning_rate: 0.0010\n",
            "Epoch 57/200\n",
            "\u001b[1m71/71\u001b[0m \u001b[32m━━━━━━━━━━━━━━━━━━━━\u001b[0m\u001b[37m\u001b[0m \u001b[1m0s\u001b[0m 5ms/step - accuracy: 0.7446 - loss: 0.6591 - val_accuracy: 0.6692 - val_loss: 0.7422 - learning_rate: 5.0000e-04\n",
            "Epoch 58/200\n",
            "\u001b[1m71/71\u001b[0m \u001b[32m━━━━━━━━━━━━━━━━━━━━\u001b[0m\u001b[37m\u001b[0m \u001b[1m0s\u001b[0m 5ms/step - accuracy: 0.7417 - loss: 0.6602 - val_accuracy: 0.6463 - val_loss: 0.7577 - learning_rate: 5.0000e-04\n",
            "Epoch 59/200\n",
            "\u001b[1m71/71\u001b[0m \u001b[32m━━━━━━━━━━━━━━━━━━━━\u001b[0m\u001b[37m\u001b[0m \u001b[1m1s\u001b[0m 5ms/step - accuracy: 0.7599 - loss: 0.6410 - val_accuracy: 0.6540 - val_loss: 0.7456 - learning_rate: 5.0000e-04\n",
            "Epoch 60/200\n",
            "\u001b[1m71/71\u001b[0m \u001b[32m━━━━━━━━━━━━━━━━━━━━\u001b[0m\u001b[37m\u001b[0m \u001b[1m1s\u001b[0m 5ms/step - accuracy: 0.7485 - loss: 0.6497 - val_accuracy: 0.6524 - val_loss: 0.7541 - learning_rate: 5.0000e-04\n",
            "Epoch 61/200\n",
            "\u001b[1m71/71\u001b[0m \u001b[32m━━━━━━━━━━━━━━━━━━━━\u001b[0m\u001b[37m\u001b[0m \u001b[1m0s\u001b[0m 5ms/step - accuracy: 0.7648 - loss: 0.6366 - val_accuracy: 0.6585 - val_loss: 0.7547 - learning_rate: 5.0000e-04\n",
            "Epoch 62/200\n",
            "\u001b[1m71/71\u001b[0m \u001b[32m━━━━━━━━━━━━━━━━━━━━\u001b[0m\u001b[37m\u001b[0m \u001b[1m1s\u001b[0m 5ms/step - accuracy: 0.7501 - loss: 0.6483 - val_accuracy: 0.6433 - val_loss: 0.7509 - learning_rate: 5.0000e-04\n",
            "Epoch 63/200\n",
            "\u001b[1m71/71\u001b[0m \u001b[32m━━━━━━━━━━━━━━━━━━━━\u001b[0m\u001b[37m\u001b[0m \u001b[1m1s\u001b[0m 5ms/step - accuracy: 0.7486 - loss: 0.6429 - val_accuracy: 0.6570 - val_loss: 0.7539 - learning_rate: 5.0000e-04\n",
            "Epoch 64/200\n",
            "\u001b[1m71/71\u001b[0m \u001b[32m━━━━━━━━━━━━━━━━━━━━\u001b[0m\u001b[37m\u001b[0m \u001b[1m1s\u001b[0m 5ms/step - accuracy: 0.7587 - loss: 0.6379 - val_accuracy: 0.6448 - val_loss: 0.7546 - learning_rate: 5.0000e-04\n",
            "Epoch 65/200\n",
            "\u001b[1m71/71\u001b[0m \u001b[32m━━━━━━━━━━━━━━━━━━━━\u001b[0m\u001b[37m\u001b[0m \u001b[1m1s\u001b[0m 5ms/step - accuracy: 0.7533 - loss: 0.6361 - val_accuracy: 0.6479 - val_loss: 0.7551 - learning_rate: 5.0000e-04\n",
            "Epoch 66/200\n",
            "\u001b[1m71/71\u001b[0m \u001b[32m━━━━━━━━━━━━━━━━━━━━\u001b[0m\u001b[37m\u001b[0m \u001b[1m0s\u001b[0m 5ms/step - accuracy: 0.7548 - loss: 0.6410 - val_accuracy: 0.6570 - val_loss: 0.7529 - learning_rate: 5.0000e-04\n",
            "Epoch 67/200\n",
            "\u001b[1m71/71\u001b[0m \u001b[32m━━━━━━━━━━━━━━━━━━━━\u001b[0m\u001b[37m\u001b[0m \u001b[1m1s\u001b[0m 6ms/step - accuracy: 0.7568 - loss: 0.6350 - val_accuracy: 0.6601 - val_loss: 0.7508 - learning_rate: 5.0000e-04\n",
            "Epoch 68/200\n",
            "\u001b[1m71/71\u001b[0m \u001b[32m━━━━━━━━━━━━━━━━━━━━\u001b[0m\u001b[37m\u001b[0m \u001b[1m1s\u001b[0m 5ms/step - accuracy: 0.7645 - loss: 0.6314 - val_accuracy: 0.6524 - val_loss: 0.7512 - learning_rate: 2.5000e-04\n",
            "Epoch 69/200\n",
            "\u001b[1m71/71\u001b[0m \u001b[32m━━━━━━━━━━━━━━━━━━━━\u001b[0m\u001b[37m\u001b[0m \u001b[1m0s\u001b[0m 5ms/step - accuracy: 0.7727 - loss: 0.6234 - val_accuracy: 0.6601 - val_loss: 0.7497 - learning_rate: 2.5000e-04\n",
            "Epoch 70/200\n",
            "\u001b[1m71/71\u001b[0m \u001b[32m━━━━━━━━━━━━━━━━━━━━\u001b[0m\u001b[37m\u001b[0m \u001b[1m0s\u001b[0m 5ms/step - accuracy: 0.7666 - loss: 0.6222 - val_accuracy: 0.6448 - val_loss: 0.7540 - learning_rate: 2.5000e-04\n",
            "Epoch 71/200\n",
            "\u001b[1m71/71\u001b[0m \u001b[32m━━━━━━━━━━━━━━━━━━━━\u001b[0m\u001b[37m\u001b[0m \u001b[1m1s\u001b[0m 5ms/step - accuracy: 0.7732 - loss: 0.6148 - val_accuracy: 0.6387 - val_loss: 0.7585 - learning_rate: 2.5000e-04\n",
            "Epoch 72/200\n",
            "\u001b[1m71/71\u001b[0m \u001b[32m━━━━━━━━━━━━━━━━━━━━\u001b[0m\u001b[37m\u001b[0m \u001b[1m1s\u001b[0m 7ms/step - accuracy: 0.7576 - loss: 0.6300 - val_accuracy: 0.6692 - val_loss: 0.7490 - learning_rate: 2.5000e-04\n",
            "Epoch 73/200\n",
            "\u001b[1m71/71\u001b[0m \u001b[32m━━━━━━━━━━━━━━━━━━━━\u001b[0m\u001b[37m\u001b[0m \u001b[1m1s\u001b[0m 10ms/step - accuracy: 0.7591 - loss: 0.6194 - val_accuracy: 0.6433 - val_loss: 0.7537 - learning_rate: 2.5000e-04\n",
            "Epoch 74/200\n",
            "\u001b[1m71/71\u001b[0m \u001b[32m━━━━━━━━━━━━━━━━━━━━\u001b[0m\u001b[37m\u001b[0m \u001b[1m1s\u001b[0m 8ms/step - accuracy: 0.7685 - loss: 0.6242 - val_accuracy: 0.6555 - val_loss: 0.7552 - learning_rate: 2.5000e-04\n",
            "Epoch 75/200\n",
            "\u001b[1m71/71\u001b[0m \u001b[32m━━━━━━━━━━━━━━━━━━━━\u001b[0m\u001b[37m\u001b[0m \u001b[1m1s\u001b[0m 9ms/step - accuracy: 0.7804 - loss: 0.6160 - val_accuracy: 0.6509 - val_loss: 0.7483 - learning_rate: 2.5000e-04\n",
            "Epoch 76/200\n",
            "\u001b[1m71/71\u001b[0m \u001b[32m━━━━━━━━━━━━━━━━━━━━\u001b[0m\u001b[37m\u001b[0m \u001b[1m1s\u001b[0m 5ms/step - accuracy: 0.7718 - loss: 0.6115 - val_accuracy: 0.6448 - val_loss: 0.7532 - learning_rate: 2.5000e-04\n",
            "Epoch 77/200\n",
            "\u001b[1m71/71\u001b[0m \u001b[32m━━━━━━━━━━━━━━━━━━━━\u001b[0m\u001b[37m\u001b[0m \u001b[1m1s\u001b[0m 5ms/step - accuracy: 0.7850 - loss: 0.6141 - val_accuracy: 0.6509 - val_loss: 0.7578 - learning_rate: 2.5000e-04\n",
            "Epoch 78/200\n",
            "\u001b[1m71/71\u001b[0m \u001b[32m━━━━━━━━━━━━━━━━━━━━\u001b[0m\u001b[37m\u001b[0m \u001b[1m1s\u001b[0m 5ms/step - accuracy: 0.7682 - loss: 0.6095 - val_accuracy: 0.6509 - val_loss: 0.7581 - learning_rate: 1.2500e-04\n",
            "Epoch 79/200\n",
            "\u001b[1m71/71\u001b[0m \u001b[32m━━━━━━━━━━━━━━━━━━━━\u001b[0m\u001b[37m\u001b[0m \u001b[1m0s\u001b[0m 5ms/step - accuracy: 0.7683 - loss: 0.6079 - val_accuracy: 0.6479 - val_loss: 0.7596 - learning_rate: 1.2500e-04\n",
            "Epoch 80/200\n",
            "\u001b[1m71/71\u001b[0m \u001b[32m━━━━━━━━━━━━━━━━━━━━\u001b[0m\u001b[37m\u001b[0m \u001b[1m0s\u001b[0m 5ms/step - accuracy: 0.7874 - loss: 0.6070 - val_accuracy: 0.6418 - val_loss: 0.7598 - learning_rate: 1.2500e-04\n",
            "Epoch 81/200\n",
            "\u001b[1m71/71\u001b[0m \u001b[32m━━━━━━━━━━━━━━━━━━━━\u001b[0m\u001b[37m\u001b[0m \u001b[1m0s\u001b[0m 5ms/step - accuracy: 0.7837 - loss: 0.6070 - val_accuracy: 0.6433 - val_loss: 0.7599 - learning_rate: 1.2500e-04\n",
            "Epoch 82/200\n",
            "\u001b[1m71/71\u001b[0m \u001b[32m━━━━━━━━━━━━━━━━━━━━\u001b[0m\u001b[37m\u001b[0m \u001b[1m1s\u001b[0m 7ms/step - accuracy: 0.7879 - loss: 0.5925 - val_accuracy: 0.6479 - val_loss: 0.7607 - learning_rate: 1.2500e-04\n",
            "Epoch 83/200\n",
            "\u001b[1m71/71\u001b[0m \u001b[32m━━━━━━━━━━━━━━━━━━━━\u001b[0m\u001b[37m\u001b[0m \u001b[1m0s\u001b[0m 5ms/step - accuracy: 0.7571 - loss: 0.6089 - val_accuracy: 0.6433 - val_loss: 0.7555 - learning_rate: 1.2500e-04\n",
            "Epoch 84/200\n",
            "\u001b[1m71/71\u001b[0m \u001b[32m━━━━━━━━━━━━━━━━━━━━\u001b[0m\u001b[37m\u001b[0m \u001b[1m0s\u001b[0m 5ms/step - accuracy: 0.7816 - loss: 0.5855 - val_accuracy: 0.6448 - val_loss: 0.7612 - learning_rate: 1.2500e-04\n",
            "Epoch 85/200\n",
            "\u001b[1m71/71\u001b[0m \u001b[32m━━━━━━━━━━━━━━━━━━━━\u001b[0m\u001b[37m\u001b[0m \u001b[1m0s\u001b[0m 6ms/step - accuracy: 0.7748 - loss: 0.6033 - val_accuracy: 0.6494 - val_loss: 0.7600 - learning_rate: 1.2500e-04\n",
            "Epoch 86/200\n",
            "\u001b[1m71/71\u001b[0m \u001b[32m━━━━━━━━━━━━━━━━━━━━\u001b[0m\u001b[37m\u001b[0m \u001b[1m1s\u001b[0m 5ms/step - accuracy: 0.7756 - loss: 0.5977 - val_accuracy: 0.6479 - val_loss: 0.7599 - learning_rate: 1.2500e-04\n",
            "Epoch 87/200\n",
            "\u001b[1m71/71\u001b[0m \u001b[32m━━━━━━━━━━━━━━━━━━━━\u001b[0m\u001b[37m\u001b[0m \u001b[1m0s\u001b[0m 6ms/step - accuracy: 0.7742 - loss: 0.5930 - val_accuracy: 0.6448 - val_loss: 0.7622 - learning_rate: 1.2500e-04\n"
          ]
        }
      ]
    },
    {
      "cell_type": "code",
      "source": [
        "y_pred = (model.predict(X_test_scaled) > 0.5).astype(int).flatten()\n",
        "print(\"\\nClassification Report:\")\n",
        "print(classification_report(y_test, y_pred))\n",
        "loss, accuracy = model.evaluate(X_test_scaled, y_test)\n",
        "print(f\"\\nTest Accuracy: {accuracy}\")\n",
        "f1 = f1_score(y_test, y_pred)\n",
        "precision = precision_score(y_test, y_pred)\n",
        "recall = recall_score(y_test, y_pred)\n",
        "print(f\"F1 Score: {f1}\")\n",
        "print(f\"Precision: {precision}\")\n",
        "print(f\"Recall: {recall}\")\n",
        "\n",
        "# Confusion Matrix\n",
        "cm = confusion_matrix(y_test, y_pred)\n",
        "print(cm)\n",
        "plt.figure(figsize=(6, 5))\n",
        "sns.heatmap(cm, annot=True, fmt=\"d\", cmap=\"Blues\", xticklabels=[\"Class 0\", \"Class 1\"], yticklabels=[\"Class 0\", \"Class 1\"])\n",
        "plt.xlabel(\"Predicted Label\")\n",
        "plt.ylabel(\"True Label\")\n",
        "plt.title(\"Confusion Matrix\")\n",
        "plt.show()"
      ],
      "metadata": {
        "colab": {
          "base_uri": "https://localhost:8080/",
          "height": 834
        },
        "id": "Wd_2EaftWQ-h",
        "outputId": "2f358240-eb3d-430c-cac3-79945466b039"
      },
      "execution_count": 133,
      "outputs": [
        {
          "output_type": "stream",
          "name": "stdout",
          "text": [
            "\u001b[1m21/21\u001b[0m \u001b[32m━━━━━━━━━━━━━━━━━━━━\u001b[0m\u001b[37m\u001b[0m \u001b[1m0s\u001b[0m 9ms/step\n",
            "\n",
            "Classification Report:\n",
            "              precision    recall  f1-score   support\n",
            "\n",
            "           0       0.68      0.87      0.76       400\n",
            "           1       0.64      0.35      0.45       256\n",
            "\n",
            "    accuracy                           0.67       656\n",
            "   macro avg       0.66      0.61      0.61       656\n",
            "weighted avg       0.66      0.67      0.64       656\n",
            "\n",
            "\u001b[1m21/21\u001b[0m \u001b[32m━━━━━━━━━━━━━━━━━━━━\u001b[0m\u001b[37m\u001b[0m \u001b[1m0s\u001b[0m 3ms/step - accuracy: 0.6648 - loss: 0.7563 \n",
            "\n",
            "Test Accuracy: 0.6692073345184326\n",
            "F1 Score: 0.4534005037783375\n",
            "Precision: 0.6382978723404256\n",
            "Recall: 0.3515625\n",
            "[[349  51]\n",
            " [166  90]]\n"
          ]
        },
        {
          "output_type": "display_data",
          "data": {
            "text/plain": [
              "<Figure size 600x500 with 2 Axes>"
            ],
            "image/png": "[encoded data removed]"
          },
          "metadata": {}
        }
      ]
    },
    {
      "cell_type": "code",
      "source": [],
      "metadata": {
        "id": "YD9moSu_qap8"
      },
      "execution_count": null,
      "outputs": []
    }
  ]
}